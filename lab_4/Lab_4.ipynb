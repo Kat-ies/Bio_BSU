{
  "nbformat": 4,
  "nbformat_minor": 0,
  "metadata": {
    "colab": {
      "name": "Lab_4.ipynb",
      "provenance": [],
      "authorship_tag": "ABX9TyPaj8BqG/s0j5F4b+j8fRM7",
      "include_colab_link": true
    },
    "kernelspec": {
      "name": "python3",
      "display_name": "Python 3"
    }
  },
  "cells": [
    {
      "cell_type": "markdown",
      "metadata": {
        "id": "view-in-github",
        "colab_type": "text"
      },
      "source": [
        "<a href=\"https://colab.research.google.com/github/Kat-ies/Bio_BSU/blob/main/lab_4/Lab_4.ipynb\" target=\"_parent\"><img src=\"https://colab.research.google.com/assets/colab-badge.svg\" alt=\"Open In Colab\"/></a>"
      ]
    },
    {
      "cell_type": "markdown",
      "metadata": {
        "id": "44sLdTvnLFXN"
      },
      "source": [
        "# **Lab_4 : BLAST**\n",
        "*Ekaterina Yurkovskaya, 3rd group*\n",
        "\n"
      ]
    },
    {
      "cell_type": "code",
      "metadata": {
        "id": "f0nNQPU5wX9M"
      },
      "source": [
        "!pip3 install Bio"
      ],
      "execution_count": null,
      "outputs": []
    },
    {
      "cell_type": "markdown",
      "metadata": {
        "id": "LGiDB2xnxwE0"
      },
      "source": [
        "# **Get HBeAG sequence from online database.**"
      ]
    },
    {
      "cell_type": "code",
      "metadata": {
        "id": "iy331JbwFX_v",
        "colab": {
          "base_uri": "https://localhost:8080/"
        },
        "outputId": "13cf8bd7-2999-437a-bb39-78138f2433ab"
      },
      "source": [
        "from Bio import Entrez\n",
        "from Bio import SeqIO\n",
        "\n",
        "\n",
        "Entrez.email = \"your_email@gmail.com\"\n",
        "\n",
        "\n",
        "entrez_handle = Entrez.efetch(\n",
        "    db = \"protein\", id = \"O92920\", rettype = \"fasta\")\n",
        "\n",
        "print(entrez_handle.read())"
      ],
      "execution_count": null,
      "outputs": [
        {
          "output_type": "stream",
          "text": [
            ">sp|O92920.1|HBEAG_HBVD7 RecName: Full=External core antigen; AltName: Full=HBeAg; AltName: Full=Precore protein; AltName: Full=p25; Flags: Precursor\n",
            "MQLFHLCLIISCSCPTVQASKLCLGWLWDMDIDPYKEFGATVQLLSFLPHDFFPSVRDLLDTASALFRDA\n",
            "LESPEHCSPHHTALRQAILCWGELMTLATWVGANLQDPASRELVVTYVNINMGLKFRQLLWFHISCLTFG\n",
            "RETVIEYLVSFGVWIRTPQAYRPPNAPILSTLPETTVVRRRGRSPRRRTPSPRRRRSQSPRRRRSQSRES\n",
            "QC\n",
            "\n",
            "\n"
          ],
          "name": "stdout"
        }
      ]
    },
    {
      "cell_type": "code",
      "metadata": {
        "colab": {
          "base_uri": "https://localhost:8080/"
        },
        "id": "DiCUPRSLfI9q",
        "outputId": "c4e12226-c69d-414d-978e-7c1b01a00065"
      },
      "source": [
        "entrez_handle = Entrez.efetch(\n",
        "    db = \"protein\", id = \"O92920\", rettype = \"fasta\")\n",
        "\n",
        "record = SeqIO.read(entrez_handle, \"fasta\")\n",
        "SeqIO.write(record, \"O92920.fasta\", \"fasta\")\n",
        "\n",
        "print(record)"
      ],
      "execution_count": null,
      "outputs": [
        {
          "output_type": "stream",
          "text": [
            "ID: sp|O92920.1|HBEAG_HBVD7\n",
            "Name: sp|O92920.1|HBEAG_HBVD7\n",
            "Description: sp|O92920.1|HBEAG_HBVD7 RecName: Full=External core antigen; AltName: Full=HBeAg; AltName: Full=Precore protein; AltName: Full=p25; Flags: Precursor\n",
            "Number of features: 0\n",
            "Seq('MQLFHLCLIISCSCPTVQASKLCLGWLWDMDIDPYKEFGATVQLLSFLPHDFFP...SQC')\n"
          ],
          "name": "stdout"
        }
      ]
    },
    {
      "cell_type": "markdown",
      "metadata": {
        "id": "SGUKAubUgBwE"
      },
      "source": [
        "#**Local BLAST.**"
      ]
    },
    {
      "cell_type": "code",
      "metadata": {
        "colab": {
          "base_uri": "https://localhost:8080/"
        },
        "id": "cHIWWM-ufyAP",
        "outputId": "c43e0195-fdd9-4ab3-fe35-cc2566e5b312"
      },
      "source": [
        "from Bio.Blast.Applications import NcbiblastpCommandline as BlastCL\n",
        "from Bio.Blast import NCBIXML\n",
        "\n",
        "db = \"HBV\"\n",
        "blast_file = \"O92920.fasta\"\n",
        "blast_out = \"O92920_res.xml\"\n",
        "\n",
        "\n",
        "cline = BlastCL(query=blast_file, db=db, outfmt=5, out=blast_out)\n",
        "# stdout, stderr = cline()\n",
        "\n",
        "print(cline)"
      ],
      "execution_count": 12,
      "outputs": [
        {
          "output_type": "stream",
          "text": [
            "blastp -out O92920_res.xml -outfmt 5 -query O92920.fasta -db HBV\n"
          ],
          "name": "stdout"
        }
      ]
    },
    {
      "cell_type": "code",
      "metadata": {
        "id": "YjAnb6TsgYcl"
      },
      "source": [
        "result = open(blast_out, \"r\")\n",
        "records = NCBIXML.parse(result)"
      ],
      "execution_count": null,
      "outputs": []
    },
    {
      "cell_type": "code",
      "metadata": {
        "id": "EyZSJtC-gY5b",
        "colab": {
          "base_uri": "https://localhost:8080/"
        },
        "outputId": "44477bae-2080-4ccf-f7a8-542b237e38e9"
      },
      "source": [
        "for record in records:\n",
        "    for alignment in blast_record.alignments[:5]:\n",
        "        for hsp in alignment.hsps:\n",
        "            print(\"**** ALIGNMENT ****\")\n",
        "            print(\"Sequence: \" + alignment.title[:50] + \"...\")\n",
        "            print(\"  Length: \" + str(alignment.length))\n",
        "            print(\" E-value: \" + str(hsp.expect))\n",
        "            print(\"   Score: \" + str(hsp.score))\n",
        "            print(\"    Gaps: \" + str(hsp.gaps))\n",
        "            print(hsp.query[0:75] + \"...\")\n",
        "            print(hsp.match[0:75] + \"...\")\n",
        "            print(hsp.sbjct[0:75] + \"...\")\n",
        "            print(\"\\n\")\n"
      ],
      "execution_count": 14,
      "outputs": [
        {
          "output_type": "stream",
          "text": [
            "**** ALIGNMENT ****\n",
            "   sequence: sp|O92920|HBEAG_HBVD7 Unknown...\n",
            "   length: 0\n",
            "   e value: 5.12828e-158\n",
            "score: 1119.0\n",
            "gaps: (None, None)\n",
            "   ...\n",
            "   ...\n",
            "   ...\n",
            "**** ALIGNMENT ****\n",
            "   sequence: tr|O92918|O92918_HBV Unknown...\n",
            "   length: 0\n",
            "   e value: 7.76187e-153\n",
            "score: 1085.0\n",
            "gaps: (None, None)\n",
            "   ...\n",
            "   ...\n",
            "   ...\n",
            "**** ALIGNMENT ****\n",
            "   sequence: tr|I2DB80|I2DB80_HBV Unknown...\n",
            "   length: 0\n",
            "   e value: 1.79507e-139\n",
            "score: 997.0\n",
            "gaps: (None, None)\n",
            "   ...\n",
            "   ...\n",
            "   ...\n",
            "**** ALIGNMENT ****\n",
            "   sequence: tr|Q80J98|Q80J98_HBV Unknown...\n",
            "   length: 0\n",
            "   e value: 2.26335e-137\n",
            "score: 983.0\n",
            "gaps: (None, None)\n",
            "   ...\n",
            "   ...\n",
            "   ...\n",
            "**** ALIGNMENT ****\n",
            "   sequence: tr|Q917J7|Q917J7_HBV Unknown...\n",
            "   length: 0\n",
            "   e value: 1.21437e-132\n",
            "score: 952.0\n",
            "gaps: (None, None)\n",
            "   ...\n",
            "   ...\n",
            "   ...\n",
            "\n"
          ],
          "name": "stdout"
        }
      ]
    },
    {
      "cell_type": "markdown",
      "metadata": {
        "id": "t7coxxDboiDd"
      },
      "source": [
        "# **BLAST online**"
      ]
    },
    {
      "cell_type": "code",
      "metadata": {
        "id": "sfxmadSeonik"
      },
      "source": [
        "from Bio.Blast import NCBIWWW\n",
        "\n",
        "\n",
        "result_handle = NCBIWWW.qblast(\"blastp\", \"nr\", \"O92920\")\n",
        "blast_records = NCBIXML.parse(result_handle)"
      ],
      "execution_count": null,
      "outputs": []
    },
    {
      "cell_type": "code",
      "metadata": {
        "colab": {
          "base_uri": "https://localhost:8080/"
        },
        "id": "Sw8ku5uEpOOO",
        "outputId": "303c4b2a-54d6-46a1-f212-d47a9a3ea5b5"
      },
      "source": [
        "for blast_record in blast_records:\n",
        "    for alignment in blast_record.alignments[:5]:\n",
        "        for hsp in alignment.hsps:\n",
        "            print(\"**** ALIGNMENT ****\")\n",
        "            print(\"Sequence: \" + alignment.title[:50] + \"...\")\n",
        "            print(\"  Length: \" + str(alignment.length))\n",
        "            print(\" E-value: \" + str(hsp.expect))\n",
        "            print(\"   Score: \" + str(hsp.score))\n",
        "            print(\"    Gaps: \" + str(hsp.gaps))\n",
        "            print(hsp.query[0:75] + \"...\")\n",
        "            print(hsp.match[0:75] + \"...\")\n",
        "            print(hsp.sbjct[0:75] + \"...\")\n",
        "            print(\"\\n\")"
      ],
      "execution_count": null,
      "outputs": [
        {
          "output_type": "stream",
          "text": [
            "**** ALIGNMENT ****\n",
            "Sequence: sp|O92920.1| RecName: Full=External core antigen; ...\n",
            "  Length: 212\n",
            " E-value: 4.29434e-154\n",
            "   Score: 1119.0\n",
            "    Gaps: 0\n",
            "MQLFHLCLIISCSCPTVQASKLCLGWLWDMDIDPYKEFGATVQLLSFLPHDFFPSVRDLLDTASALFRDALESPE...\n",
            "MQLFHLCLIISCSCPTVQASKLCLGWLWDMDIDPYKEFGATVQLLSFLPHDFFPSVRDLLDTASALFRDALESPE...\n",
            "MQLFHLCLIISCSCPTVQASKLCLGWLWDMDIDPYKEFGATVQLLSFLPHDFFPSVRDLLDTASALFRDALESPE...\n",
            "\n",
            "\n",
            "**** ALIGNMENT ****\n",
            "Sequence: gb|QDO72733.1| precore/core protein [Hepatitis B v...\n",
            "  Length: 212\n",
            " E-value: 1.4047e-153\n",
            "   Score: 1115.0\n",
            "    Gaps: 0\n",
            "MQLFHLCLIISCSCPTVQASKLCLGWLWDMDIDPYKEFGATVQLLSFLPHDFFPSVRDLLDTASALFRDALESPE...\n",
            "MQLFHLCLIISCSCPTVQASKLCLGWLWDMDIDPYKEFGATVQLLSFLPHDFFPSVRDLLDTASALFRDALESPE...\n",
            "MQLFHLCLIISCSCPTVQASKLCLGWLWDMDIDPYKEFGATVQLLSFLPHDFFPSVRDLLDTASALFRDALESPE...\n",
            "\n",
            "\n",
            "**** ALIGNMENT ****\n",
            "Sequence: gb|QDO72728.1| precore/core protein [Hepatitis B v...\n",
            "  Length: 212\n",
            " E-value: 1.62295e-152\n",
            "   Score: 1108.0\n",
            "    Gaps: 0\n",
            "MQLFHLCLIISCSCPTVQASKLCLGWLWDMDIDPYKEFGATVQLLSFLPHDFFPSVRDLLDTASALFRDALESPE...\n",
            "MQLFHLCLIISCSCPTVQASKLCLGWLWDMDIDPYKEFGATV+LLSFLPHDFFPSVRDLLDTASALFRDALESPE...\n",
            "MQLFHLCLIISCSCPTVQASKLCLGWLWDMDIDPYKEFGATVELLSFLPHDFFPSVRDLLDTASALFRDALESPE...\n",
            "\n",
            "\n",
            "**** ALIGNMENT ****\n",
            "Sequence: gb|QDO72738.1| precore/core protein [Hepatitis B v...\n",
            "  Length: 212\n",
            " E-value: 1.93443e-152\n",
            "   Score: 1108.0\n",
            "    Gaps: 0\n",
            "MQLFHLCLIISCSCPTVQASKLCLGWLWDMDIDPYKEFGATVQLLSFLPHDFFPSVRDLLDTASALFRDALESPE...\n",
            "MQLFHLCLIISCSCPTVQASKLCLGWLWDMDIDPYKEFGATVQLLSFLPHDFFPSVRDLLDTASAL+R+ALESPE...\n",
            "MQLFHLCLIISCSCPTVQASKLCLGWLWDMDIDPYKEFGATVQLLSFLPHDFFPSVRDLLDTASALYREALESPE...\n",
            "\n",
            "\n",
            "**** ALIGNMENT ****\n",
            "Sequence: gb|QDO72743.1| precore/core protein [Hepatitis B v...\n",
            "  Length: 212\n",
            " E-value: 6.62245e-151\n",
            "   Score: 1098.0\n",
            "    Gaps: 0\n",
            "MQLFHLCLIISCSCPTVQASKLCLGWLWDMDIDPYKEFGATVQLLSFLPHDFFPSVRDLLDTASALFRDALESPE...\n",
            "MQLFHLCLIISCSCPTVQASKLCLGWLWDMDIDPYKEFGATVQLLSFLP DFFPSVRDLLDTASALFRDALESPE...\n",
            "MQLFHLCLIISCSCPTVQASKLCLGWLWDMDIDPYKEFGATVQLLSFLPSDFFPSVRDLLDTASALFRDALESPE...\n",
            "\n",
            "\n"
          ],
          "name": "stdout"
        }
      ]
    },
    {
      "cell_type": "code",
      "metadata": {
        "id": "LRiLWJ-qp9bf"
      },
      "source": [
        ""
      ],
      "execution_count": null,
      "outputs": []
    }
  ]
}