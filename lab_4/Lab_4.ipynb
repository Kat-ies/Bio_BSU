{
  "nbformat": 4,
  "nbformat_minor": 0,
  "metadata": {
    "colab": {
      "name": "Lab_4.ipynb",
      "provenance": [],
      "toc_visible": true,
      "authorship_tag": "ABX9TyMQeyeOpJSibQ198eRCJFbV",
      "include_colab_link": true
    },
    "kernelspec": {
      "name": "python3",
      "display_name": "Python 3"
    }
  },
  "cells": [
    {
      "cell_type": "markdown",
      "metadata": {
        "id": "view-in-github",
        "colab_type": "text"
      },
      "source": [
        "<a href=\"https://colab.research.google.com/github/Kat-ies/Bio_BSU/blob/main/lab_4/Lab_4.ipynb\" target=\"_parent\"><img src=\"https://colab.research.google.com/assets/colab-badge.svg\" alt=\"Open In Colab\"/></a>"
      ]
    },
    {
      "cell_type": "markdown",
      "metadata": {
        "id": "44sLdTvnLFXN"
      },
      "source": [
        "# **Lab_4 : BLAST**\n",
        "*Ekaterina Yurkovskaya, 3rd group*\n",
        "\n"
      ]
    },
    {
      "cell_type": "code",
      "metadata": {
        "id": "f0nNQPU5wX9M"
      },
      "source": [
        "!pip3 install Bio"
      ],
      "execution_count": null,
      "outputs": []
    },
    {
      "cell_type": "markdown",
      "metadata": {
        "id": "LGiDB2xnxwE0"
      },
      "source": [
        "# **Get HBeAG sequence from online database.**"
      ]
    },
    {
      "cell_type": "code",
      "metadata": {
        "id": "iy331JbwFX_v",
        "colab": {
          "base_uri": "https://localhost:8080/"
        },
        "outputId": "13cf8bd7-2999-437a-bb39-78138f2433ab"
      },
      "source": [
        "from Bio import Entrez\n",
        "from Bio import SeqIO\n",
        "\n",
        "\n",
        "Entrez.email = \"your_email@gmail.com\"\n",
        "\n",
        "\n",
        "entrez_handle = Entrez.efetch(\n",
        "    db = \"protein\", id = \"O92920\", rettype = \"fasta\")\n",
        "\n",
        "print(entrez_handle.read())"
      ],
      "execution_count": 2,
      "outputs": [
        {
          "output_type": "stream",
          "text": [
            ">sp|O92920.1|HBEAG_HBVD7 RecName: Full=External core antigen; AltName: Full=HBeAg; AltName: Full=Precore protein; AltName: Full=p25; Flags: Precursor\n",
            "MQLFHLCLIISCSCPTVQASKLCLGWLWDMDIDPYKEFGATVQLLSFLPHDFFPSVRDLLDTASALFRDA\n",
            "LESPEHCSPHHTALRQAILCWGELMTLATWVGANLQDPASRELVVTYVNINMGLKFRQLLWFHISCLTFG\n",
            "RETVIEYLVSFGVWIRTPQAYRPPNAPILSTLPETTVVRRRGRSPRRRTPSPRRRRSQSPRRRRSQSRES\n",
            "QC\n",
            "\n",
            "\n"
          ],
          "name": "stdout"
        }
      ]
    },
    {
      "cell_type": "code",
      "metadata": {
        "colab": {
          "base_uri": "https://localhost:8080/"
        },
        "id": "DiCUPRSLfI9q",
        "outputId": "c4e12226-c69d-414d-978e-7c1b01a00065"
      },
      "source": [
        "entrez_handle = Entrez.efetch(\n",
        "    db = \"protein\", id = \"O92920\", rettype = \"fasta\")\n",
        "\n",
        "record = SeqIO.read(entrez_handle, \"fasta\")\n",
        "SeqIO.write(record, \"O92920.fasta\", \"fasta\")\n",
        "\n",
        "print(record)"
      ],
      "execution_count": 5,
      "outputs": [
        {
          "output_type": "stream",
          "text": [
            "ID: sp|O92920.1|HBEAG_HBVD7\n",
            "Name: sp|O92920.1|HBEAG_HBVD7\n",
            "Description: sp|O92920.1|HBEAG_HBVD7 RecName: Full=External core antigen; AltName: Full=HBeAg; AltName: Full=Precore protein; AltName: Full=p25; Flags: Precursor\n",
            "Number of features: 0\n",
            "Seq('MQLFHLCLIISCSCPTVQASKLCLGWLWDMDIDPYKEFGATVQLLSFLPHDFFP...SQC')\n"
          ],
          "name": "stdout"
        }
      ]
    },
    {
      "cell_type": "markdown",
      "metadata": {
        "id": "SGUKAubUgBwE"
      },
      "source": [
        "#**Local BLAST.**"
      ]
    },
    {
      "cell_type": "code",
      "metadata": {
        "colab": {
          "base_uri": "https://localhost:8080/",
          "height": 393
        },
        "id": "cHIWWM-ufyAP",
        "outputId": "49616c03-4391-480a-878a-f99d5c9b1bc1"
      },
      "source": [
        "from Bio.Blast.Applications import NcbiblastpCommandline as BlastCL\n",
        "from Bio.Blast import NCBIXML\n",
        "\n",
        "db = \"HBV\"\n",
        "blast_file = \"O92920.fasta\"\n",
        "blast_out = \"O92920_res.xml\"\n",
        "\n",
        "\n",
        "cline = BlastCL(query=blast_file, db=db, outfmt=5, out=blast_out)\n",
        "stdout, stderr = cline()\n",
        "\n",
        "print(cline)"
      ],
      "execution_count": 9,
      "outputs": [
        {
          "output_type": "error",
          "ename": "ApplicationError",
          "evalue": "ignored",
          "traceback": [
            "\u001b[0;31m---------------------------------------------------------------------------\u001b[0m",
            "\u001b[0;31mApplicationError\u001b[0m                          Traceback (most recent call last)",
            "\u001b[0;32m<ipython-input-9-2241eee3b4ee>\u001b[0m in \u001b[0;36m<module>\u001b[0;34m()\u001b[0m\n\u001b[1;32m      8\u001b[0m \u001b[0;34m\u001b[0m\u001b[0m\n\u001b[1;32m      9\u001b[0m \u001b[0mcline\u001b[0m \u001b[0;34m=\u001b[0m \u001b[0mBlastCL\u001b[0m\u001b[0;34m(\u001b[0m\u001b[0mquery\u001b[0m\u001b[0;34m=\u001b[0m\u001b[0mblast_file\u001b[0m\u001b[0;34m,\u001b[0m \u001b[0mdb\u001b[0m\u001b[0;34m=\u001b[0m\u001b[0mdb\u001b[0m\u001b[0;34m,\u001b[0m \u001b[0moutfmt\u001b[0m\u001b[0;34m=\u001b[0m\u001b[0;36m5\u001b[0m\u001b[0;34m,\u001b[0m \u001b[0mout\u001b[0m\u001b[0;34m=\u001b[0m\u001b[0mblast_out\u001b[0m\u001b[0;34m)\u001b[0m\u001b[0;34m\u001b[0m\u001b[0;34m\u001b[0m\u001b[0m\n\u001b[0;32m---> 10\u001b[0;31m \u001b[0mstdout\u001b[0m\u001b[0;34m,\u001b[0m \u001b[0mstderr\u001b[0m \u001b[0;34m=\u001b[0m \u001b[0mcline\u001b[0m\u001b[0;34m(\u001b[0m\u001b[0;34m)\u001b[0m\u001b[0;34m\u001b[0m\u001b[0;34m\u001b[0m\u001b[0m\n\u001b[0m\u001b[1;32m     11\u001b[0m \u001b[0;34m\u001b[0m\u001b[0m\n\u001b[1;32m     12\u001b[0m \u001b[0mprint\u001b[0m\u001b[0;34m(\u001b[0m\u001b[0mcline\u001b[0m\u001b[0;34m)\u001b[0m\u001b[0;34m\u001b[0m\u001b[0;34m\u001b[0m\u001b[0m\n",
            "\u001b[0;32m/usr/local/lib/python3.7/dist-packages/Bio/Application/__init__.py\u001b[0m in \u001b[0;36m__call__\u001b[0;34m(self, stdin, stdout, stderr, cwd, env)\u001b[0m\n\u001b[1;32m    567\u001b[0m \u001b[0;34m\u001b[0m\u001b[0m\n\u001b[1;32m    568\u001b[0m         \u001b[0;32mif\u001b[0m \u001b[0mreturn_code\u001b[0m\u001b[0;34m:\u001b[0m\u001b[0;34m\u001b[0m\u001b[0;34m\u001b[0m\u001b[0m\n\u001b[0;32m--> 569\u001b[0;31m             \u001b[0;32mraise\u001b[0m \u001b[0mApplicationError\u001b[0m\u001b[0;34m(\u001b[0m\u001b[0mreturn_code\u001b[0m\u001b[0;34m,\u001b[0m \u001b[0mstr\u001b[0m\u001b[0;34m(\u001b[0m\u001b[0mself\u001b[0m\u001b[0;34m)\u001b[0m\u001b[0;34m,\u001b[0m \u001b[0mstdout_str\u001b[0m\u001b[0;34m,\u001b[0m \u001b[0mstderr_str\u001b[0m\u001b[0;34m)\u001b[0m\u001b[0;34m\u001b[0m\u001b[0;34m\u001b[0m\u001b[0m\n\u001b[0m\u001b[1;32m    570\u001b[0m         \u001b[0;32mreturn\u001b[0m \u001b[0mstdout_str\u001b[0m\u001b[0;34m,\u001b[0m \u001b[0mstderr_str\u001b[0m\u001b[0;34m\u001b[0m\u001b[0;34m\u001b[0m\u001b[0m\n\u001b[1;32m    571\u001b[0m \u001b[0;34m\u001b[0m\u001b[0m\n",
            "\u001b[0;31mApplicationError\u001b[0m: Non-zero return code 127 from 'blastp -out O92920_res.xml -outfmt 5 -query O92920.fasta -db HBV', message '/bin/sh: 1: blastp: not found'"
          ]
        }
      ]
    },
    {
      "cell_type": "code",
      "metadata": {
        "id": "YjAnb6TsgYcl"
      },
      "source": [
        "# xml parsing\n",
        "\n",
        "result = open(blast_out, \"r\")\n",
        "records = NCBIXML.parse(result) # generator\n",
        "item = next(records)"
      ],
      "execution_count": null,
      "outputs": []
    },
    {
      "cell_type": "code",
      "metadata": {
        "id": "EyZSJtC-gY5b"
      },
      "source": [
        "\n",
        "\n",
        "# first 3 search results\n",
        "\n",
        "for alignment in item.alignments[:3]:\n",
        "    for hsp in alignment.hsps:\n",
        "        print(\"**** ALIGNMENT ****\")\n",
        "        print(\"Sequence: \" + alignment.title[:30] + \"...\")\n",
        "        print(\"  Length: \" + str(alignment.length))\n",
        "        print(\" E-value: \" + str(hsp.expect))\n",
        "        print(\"   Score: \" + str(hsp.score))\n",
        "        print(\"    Gaps: \" + str(hsp.gaps))\n",
        "        print(hsp.query[0:50] + \"...\")\n",
        "        print(hsp.match[0:50] + \"...\")\n",
        "        print(hsp.sbjct[0:50] + \"...\")\n",
        "        print(\"\\n\")\n",
        "\n"
      ],
      "execution_count": null,
      "outputs": []
    },
    {
      "cell_type": "markdown",
      "metadata": {
        "id": "t7coxxDboiDd"
      },
      "source": [
        "# **BLAST online**"
      ]
    },
    {
      "cell_type": "code",
      "metadata": {
        "id": "sfxmadSeonik"
      },
      "source": [
        "from Bio.Blast import NCBIWWW\n",
        "\n",
        "\n",
        "result_handle = NCBIWWW.qblast(\"blastp\", \"nr\", \"O92920\")\n",
        "blast_records = NCBIXML.parse(result_handle)\n"
      ],
      "execution_count": 10,
      "outputs": []
    },
    {
      "cell_type": "code",
      "metadata": {
        "colab": {
          "base_uri": "https://localhost:8080/"
        },
        "id": "Sw8ku5uEpOOO",
        "outputId": "303c4b2a-54d6-46a1-f212-d47a9a3ea5b5"
      },
      "source": [
        "for blast_record in blast_records:\n",
        "    for alignment in blast_record.alignments[:5]:\n",
        "        for hsp in alignment.hsps:\n",
        "            print(\"**** ALIGNMENT ****\")\n",
        "            print(\"Sequence: \" + alignment.title[:50] + \"...\")\n",
        "            print(\"  Length: \" + str(alignment.length))\n",
        "            print(\" E-value: \" + str(hsp.expect))\n",
        "            print(\"   Score: \" + str(hsp.score))\n",
        "            print(\"    Gaps: \" + str(hsp.gaps))\n",
        "            print(hsp.query[0:75] + \"...\")\n",
        "            print(hsp.match[0:75] + \"...\")\n",
        "            print(hsp.sbjct[0:75] + \"...\")\n",
        "            print(\"\\n\")"
      ],
      "execution_count": 11,
      "outputs": [
        {
          "output_type": "stream",
          "text": [
            "**** ALIGNMENT ****\n",
            "Sequence: sp|O92920.1| RecName: Full=External core antigen; ...\n",
            "  Length: 212\n",
            " E-value: 4.29434e-154\n",
            "   Score: 1119.0\n",
            "    Gaps: 0\n",
            "MQLFHLCLIISCSCPTVQASKLCLGWLWDMDIDPYKEFGATVQLLSFLPHDFFPSVRDLLDTASALFRDALESPE...\n",
            "MQLFHLCLIISCSCPTVQASKLCLGWLWDMDIDPYKEFGATVQLLSFLPHDFFPSVRDLLDTASALFRDALESPE...\n",
            "MQLFHLCLIISCSCPTVQASKLCLGWLWDMDIDPYKEFGATVQLLSFLPHDFFPSVRDLLDTASALFRDALESPE...\n",
            "\n",
            "\n",
            "**** ALIGNMENT ****\n",
            "Sequence: gb|QDO72733.1| precore/core protein [Hepatitis B v...\n",
            "  Length: 212\n",
            " E-value: 1.4047e-153\n",
            "   Score: 1115.0\n",
            "    Gaps: 0\n",
            "MQLFHLCLIISCSCPTVQASKLCLGWLWDMDIDPYKEFGATVQLLSFLPHDFFPSVRDLLDTASALFRDALESPE...\n",
            "MQLFHLCLIISCSCPTVQASKLCLGWLWDMDIDPYKEFGATVQLLSFLPHDFFPSVRDLLDTASALFRDALESPE...\n",
            "MQLFHLCLIISCSCPTVQASKLCLGWLWDMDIDPYKEFGATVQLLSFLPHDFFPSVRDLLDTASALFRDALESPE...\n",
            "\n",
            "\n",
            "**** ALIGNMENT ****\n",
            "Sequence: gb|QDO72728.1| precore/core protein [Hepatitis B v...\n",
            "  Length: 212\n",
            " E-value: 1.62295e-152\n",
            "   Score: 1108.0\n",
            "    Gaps: 0\n",
            "MQLFHLCLIISCSCPTVQASKLCLGWLWDMDIDPYKEFGATVQLLSFLPHDFFPSVRDLLDTASALFRDALESPE...\n",
            "MQLFHLCLIISCSCPTVQASKLCLGWLWDMDIDPYKEFGATV+LLSFLPHDFFPSVRDLLDTASALFRDALESPE...\n",
            "MQLFHLCLIISCSCPTVQASKLCLGWLWDMDIDPYKEFGATVELLSFLPHDFFPSVRDLLDTASALFRDALESPE...\n",
            "\n",
            "\n",
            "**** ALIGNMENT ****\n",
            "Sequence: gb|QDO72738.1| precore/core protein [Hepatitis B v...\n",
            "  Length: 212\n",
            " E-value: 1.93443e-152\n",
            "   Score: 1108.0\n",
            "    Gaps: 0\n",
            "MQLFHLCLIISCSCPTVQASKLCLGWLWDMDIDPYKEFGATVQLLSFLPHDFFPSVRDLLDTASALFRDALESPE...\n",
            "MQLFHLCLIISCSCPTVQASKLCLGWLWDMDIDPYKEFGATVQLLSFLPHDFFPSVRDLLDTASAL+R+ALESPE...\n",
            "MQLFHLCLIISCSCPTVQASKLCLGWLWDMDIDPYKEFGATVQLLSFLPHDFFPSVRDLLDTASALYREALESPE...\n",
            "\n",
            "\n",
            "**** ALIGNMENT ****\n",
            "Sequence: gb|QDO72743.1| precore/core protein [Hepatitis B v...\n",
            "  Length: 212\n",
            " E-value: 6.62245e-151\n",
            "   Score: 1098.0\n",
            "    Gaps: 0\n",
            "MQLFHLCLIISCSCPTVQASKLCLGWLWDMDIDPYKEFGATVQLLSFLPHDFFPSVRDLLDTASALFRDALESPE...\n",
            "MQLFHLCLIISCSCPTVQASKLCLGWLWDMDIDPYKEFGATVQLLSFLP DFFPSVRDLLDTASALFRDALESPE...\n",
            "MQLFHLCLIISCSCPTVQASKLCLGWLWDMDIDPYKEFGATVQLLSFLPSDFFPSVRDLLDTASALFRDALESPE...\n",
            "\n",
            "\n"
          ],
          "name": "stdout"
        }
      ]
    },
    {
      "cell_type": "code",
      "metadata": {
        "id": "LRiLWJ-qp9bf"
      },
      "source": [
        ""
      ],
      "execution_count": null,
      "outputs": []
    }
  ]
}