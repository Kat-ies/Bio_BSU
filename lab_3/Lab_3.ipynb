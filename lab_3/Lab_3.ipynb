{
  "nbformat": 4,
  "nbformat_minor": 0,
  "metadata": {
    "colab": {
      "name": "Lab_3.ipynb",
      "provenance": [],
      "authorship_tag": "ABX9TyPOnt5CL6T7qefctIl3s4xS",
      "include_colab_link": true
    },
    "kernelspec": {
      "name": "python3",
      "display_name": "Python 3"
    }
  },
  "cells": [
    {
      "cell_type": "markdown",
      "metadata": {
        "id": "view-in-github",
        "colab_type": "text"
      },
      "source": [
        "<a href=\"https://colab.research.google.com/github/Kat-ies/Bio_BSU/blob/main/lab_3/Lab_3.ipynb\" target=\"_parent\"><img src=\"https://colab.research.google.com/assets/colab-badge.svg\" alt=\"Open In Colab\"/></a>"
      ]
    },
    {
      "cell_type": "markdown",
      "metadata": {
        "id": "44sLdTvnLFXN"
      },
      "source": [
        "# **Lab_3 : Smith-Waterman algorithm**\n",
        "*Ekaterina Yurkovskaya, 3rd group*\n",
        "\n"
      ]
    },
    {
      "cell_type": "code",
      "metadata": {
        "id": "f0nNQPU5wX9M"
      },
      "source": [
        "!pip3 install Bio"
      ],
      "execution_count": null,
      "outputs": []
    },
    {
      "cell_type": "markdown",
      "metadata": {
        "id": "LGiDB2xnxwE0"
      },
      "source": [
        "# **Algorithm.**"
      ]
    },
    {
      "cell_type": "code",
      "metadata": {
        "id": "qCficRVwICxX"
      },
      "source": [
        "import numpy as np\n",
        "\n",
        "\n",
        "def get_i_j_mismatch(first_amino_acid, second_amino_acid,mismatch_penalty, substitution_matrix=None):\n",
        "    if substitution_matrix is None:\n",
        "        return -mismatch_penalty if  first_amino_acid == second_amino_acid else mismatch_penalty\n",
        "    else:\n",
        "        return substitution_matrix[first_amino_acid][second_amino_acid]\n",
        "\n",
        "\n",
        "\n",
        "def aligment(ref_seq, seq, deletion_penalty=-1, insertion_penalty=-1, mismatch_penalty=-1, substitution_matrix=None):\n",
        "    dp = np.zeros((len(ref_seq) + 1, len(seq) + 1))\n",
        "\n",
        "    for i in range(len(ref_seq)+1):\n",
        "        dp[i][0] = i * deletion_penalty\n",
        "\n",
        "    for j in range(len(seq)+1):\n",
        "        dp[0][j] = j * insertion_penalty\n",
        "\n",
        "     \n",
        "    start_i, start_j = len(ref_seq), len(seq)\n",
        "    start_score = -1\n",
        "\n",
        "\n",
        "    for i in range(1, len(ref_seq)+1):\n",
        "        for j in range(1, len(seq)+1):\n",
        "            dp[i][j] = max(0,\n",
        "                           dp[i - 1][j] + deletion_penalty,\n",
        "                           dp[i][j - 1] + insertion_penalty,\n",
        "                           dp[i - 1][j - 1] + get_i_j_mismatch(ref_seq[i-1], seq[j-1],\n",
        "                                                               mismatch_penalty, substitution_matrix))\n",
        "            if dp[i][j] > start_score:\n",
        "                start_score = dp[i][j]\n",
        "                start_i, start_j = i, j\n",
        "\n",
        "\n",
        "    # print(dp)\n",
        "\n",
        "    queue = [(start_i, start_j, \"\", \"\")]\n",
        "    seq1, seq2 = [], []\n",
        "    \n",
        " \n",
        "    while queue:\n",
        "        i, j, current_seq1, current_seq2 = queue.pop()\n",
        "\n",
        "        if dp[i][j] == 0:\n",
        "            seq1.append(current_seq1)\n",
        "            seq2.append(current_seq2)\n",
        "\n",
        "        else:\n",
        "            if i > 0 and j > 0 and dp[i][j] == dp[i - 1][j - 1] + \\\n",
        "            get_i_j_mismatch(ref_seq[i - 1], seq[j - 1],mismatch_penalty, substitution_matrix):\n",
        "                queue.append((i - 1, j - 1, current_seq1 + ref_seq[i-1], current_seq2 + seq[j-1]))\n",
        "            if i > 0 and dp[i][j] == dp[i - 1][j] + deletion_penalty:\n",
        "                queue.append((i - 1, j, current_seq1 + ref_seq[i-1],current_seq2 + '-'))\n",
        "            if j > 0 and dp[i][j] == dp[i][j - 1] + insertion_penalty:\n",
        "                queue.append((i, j - 1, current_seq1 + '-',current_seq2 + seq[j - 1]))\n",
        "\n",
        "\n",
        "    for i in range(len(seq1)):\n",
        "        print('First sequency:  ' + seq1[i][::-1])\n",
        "        print('Second sequency: ' + seq2[i][::-1])\n",
        "        print('_______________________\\n' )"
      ],
      "execution_count": 18,
      "outputs": []
    },
    {
      "cell_type": "markdown",
      "metadata": {
        "id": "wrIJUZROx1lW"
      },
      "source": [
        "# **Tests.**"
      ]
    },
    {
      "cell_type": "code",
      "metadata": {
        "id": "l2jcjxcSTQXh"
      },
      "source": [
        "from Bio.Align import substitution_matrices\n",
        "\n",
        "blosum = substitution_matrices.load('BLOSUM62')\n",
        "pam = substitution_matrices.load('PAM250')"
      ],
      "execution_count": 4,
      "outputs": []
    },
    {
      "cell_type": "code",
      "metadata": {
        "colab": {
          "base_uri": "https://localhost:8080/"
        },
        "id": "lChnTSIUR4o3",
        "outputId": "43048adc-fe8e-4273-ee81-a9ed0bb572ca"
      },
      "source": [
        "aligment('TGTTACGG', 'GGTTGACTA', deletion_penalty=-2, insertion_penalty=-2, mismatch_penalty=-3)"
      ],
      "execution_count": 20,
      "outputs": [
        {
          "output_type": "stream",
          "text": [
            "First sequency:  GTT-AC\n",
            "Second sequency: GTTGAC\n",
            "_______________________\n",
            "\n"
          ],
          "name": "stdout"
        }
      ]
    },
    {
      "cell_type": "code",
      "metadata": {
        "colab": {
          "base_uri": "https://localhost:8080/"
        },
        "id": "W89eDZFExavU",
        "outputId": "a35f5a77-e4f8-4d1b-a0af-c7f92bb3abe7"
      },
      "source": [
        " aligment('CCAGAGAC', 'CCAAGGCT')"
      ],
      "execution_count": 19,
      "outputs": [
        {
          "output_type": "stream",
          "text": [
            "First sequency:  CCAGAG\n",
            "Second sequency: CCA-AG\n",
            "_______________________\n",
            "\n"
          ],
          "name": "stdout"
        }
      ]
    },
    {
      "cell_type": "code",
      "metadata": {
        "colab": {
          "base_uri": "https://localhost:8080/"
        },
        "id": "ikYQVf0WwiIW",
        "outputId": "d812cad6-1aa9-4779-aa6f-8880d300a2bd"
      },
      "source": [
        "aligment('ALPAQGPWKSPISYFRMTCVSLRVNHRPQFIEAWGNR','AAPVQEGPWTISSBMQSLDHBVBQFLIEAWNR', substitution_matrix = blosum,\n",
        "         deletion_penalty=-5, insertion_penalty=-5)\n"
      ],
      "execution_count": 21,
      "outputs": [
        {
          "output_type": "stream",
          "text": [
            "First sequency:  ALPAQ-GPWKSPISYFRMTCVSLRVNHRP-QF-IEAWGNR\n",
            "Second sequency: AAPVQEGPW-T-ISS-BMQ--SL--DHBVBQFLIEAW-NR\n",
            "_______________________\n",
            "\n",
            "First sequency:  ALPAQ-GPWKSPISYFRMTCVSLRVNHRP-QF-IEAWGNR\n",
            "Second sequency: AAPVQEGPW-T-IS-SBMQ--SL--DHBVBQFLIEAW-NR\n",
            "_______________________\n",
            "\n",
            "First sequency:  ALPAQ-GPWKSPISYFRMTCVSLRVNHR-PQF-IEAWGNR\n",
            "Second sequency: AAPVQEGPW-T-ISS-BMQ--SL--DHBVBQFLIEAW-NR\n",
            "_______________________\n",
            "\n",
            "First sequency:  ALPAQ-GPWKSPISYFRMTCVSLRVNHR-PQF-IEAWGNR\n",
            "Second sequency: AAPVQEGPW-T-IS-SBMQ--SL--DHBVBQFLIEAW-NR\n",
            "_______________________\n",
            "\n"
          ],
          "name": "stdout"
        }
      ]
    },
    {
      "cell_type": "code",
      "metadata": {
        "colab": {
          "base_uri": "https://localhost:8080/"
        },
        "id": "qIU6yszbypFi",
        "outputId": "2030e8d4-0226-4a6f-dc0f-f5d9cb6bf725"
      },
      "source": [
        "aligment('ALPAQGPWKSPISYFRMTCVSLRVNHRPQFIEAWGNR','AAPVQEGPWTISSBMQSLDHBVBQFLIEAWNR', substitution_matrix = pam,\n",
        "         deletion_penalty=-5, insertion_penalty=-5)"
      ],
      "execution_count": 22,
      "outputs": [
        {
          "output_type": "stream",
          "text": [
            "First sequency:  PAQ-GPWKSPISYFRMTCVSLRVNHRPQF-IEAWGNR\n",
            "Second sequency: PVQEGPW-T-ISS-BMQ--SLD-HBVBQFLIEAW-NR\n",
            "_______________________\n",
            "\n",
            "First sequency:  PAQ-GPWKSPISYFRMTCVSLRVNHRPQF-IEAWGNR\n",
            "Second sequency: PVQEGPW-T-IS-SBMQ--SLD-HBVBQFLIEAW-NR\n",
            "_______________________\n",
            "\n"
          ],
          "name": "stdout"
        }
      ]
    },
    {
      "cell_type": "code",
      "metadata": {
        "id": "bYhN0TtuzWfz"
      },
      "source": [
        ""
      ],
      "execution_count": null,
      "outputs": []
    }
  ]
}