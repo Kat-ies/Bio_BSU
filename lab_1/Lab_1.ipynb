{
  "nbformat": 4,
  "nbformat_minor": 0,
  "metadata": {
    "colab": {
      "name": "Lab_1.ipynb",
      "provenance": [],
      "authorship_tag": "ABX9TyPIKKHfNpz5sSgtEn6j2IRk",
      "include_colab_link": true
    },
    "kernelspec": {
      "name": "python3",
      "display_name": "Python 3"
    }
  },
  "cells": [
    {
      "cell_type": "markdown",
      "metadata": {
        "id": "view-in-github",
        "colab_type": "text"
      },
      "source": [
        "<a href=\"https://colab.research.google.com/github/Kat-ies/Bio_BSU/blob/main/lab_1/Lab_1.ipynb\" target=\"_parent\"><img src=\"https://colab.research.google.com/assets/colab-badge.svg\" alt=\"Open In Colab\"/></a>"
      ]
    },
    {
      "cell_type": "markdown",
      "metadata": {
        "id": "ITT74TPDROMu"
      },
      "source": [
        "# Lab_1 : Intro to bioiformatics\n",
        "*Ekaterina Yurkovskaya, 3rd group*"
      ]
    },
    {
      "cell_type": "markdown",
      "metadata": {
        "id": "g6yN8d1hRwJN"
      },
      "source": [
        "##Task 1.\n",
        "Calculate the GC-content for the gene with the ID X53950. "
      ]
    },
    {
      "cell_type": "code",
      "metadata": {
        "colab": {
          "base_uri": "https://localhost:8080/"
        },
        "id": "sNK0AOQsByMW",
        "outputId": "981d7c02-baa6-4872-ee40-b95e332ee0bc"
      },
      "source": [
        "from Bio import SeqIO\n",
        "from Bio.SeqUtils import GC\n",
        "\n",
        "record = SeqIO.read(\"X53950.fna\", \"fasta\")\n",
        "print('GC =', GC(record.seq))"
      ],
      "execution_count": null,
      "outputs": [
        {
          "output_type": "stream",
          "text": [
            "GC = 35.73213393303348\n"
          ],
          "name": "stdout"
        }
      ]
    },
    {
      "cell_type": "markdown",
      "metadata": {
        "id": "Ch6_A3nIYPX4"
      },
      "source": [
        "##Task 2.\n",
        "Get fasta sequence from the pdb file."
      ]
    },
    {
      "cell_type": "code",
      "metadata": {
        "colab": {
          "base_uri": "https://localhost:8080/"
        },
        "id": "4dBPkVtcWPMi",
        "outputId": "096b6868-29e8-43de-8dca-4cfa13f171e4"
      },
      "source": [
        "SeqIO.convert(\"frompdb.pdb\", \"pdb-atom\", \"itsfasta.fasta\", \"fasta\")\n",
        "\n",
        "#for records in SeqIO.parse(\"frompdb.pdb\", \"pdb-atom\"):\n",
        "#    print(records.seq)"
      ],
      "execution_count": null,
      "outputs": [
        {
          "output_type": "stream",
          "text": [
            "/usr/local/lib/python3.6/dist-packages/Bio/PDB/StructureBuilder.py:92: PDBConstructionWarning: WARNING: Chain A is discontinuous at line 3899.\n",
            "  PDBConstructionWarning,\n",
            "/usr/local/lib/python3.6/dist-packages/Bio/PDB/StructureBuilder.py:92: PDBConstructionWarning: WARNING: Chain B is discontinuous at line 4076.\n",
            "  PDBConstructionWarning,\n",
            "/usr/local/lib/python3.6/dist-packages/Bio/SeqIO/PdbIO.py:304: BiopythonParserWarning: 'HEADER' line not found; can't determine PDB ID.\n",
            "  \"'HEADER' line not found; can't determine PDB ID.\", BiopythonParserWarning\n"
          ],
          "name": "stderr"
        },
        {
          "output_type": "execute_result",
          "data": {
            "text/plain": [
              "2"
            ]
          },
          "metadata": {
            "tags": []
          },
          "execution_count": 16
        }
      ]
    },
    {
      "cell_type": "markdown",
      "metadata": {
        "id": "kpQFdO1Ndn5G"
      },
      "source": [
        "## Task 3.\n",
        "DNA to RNA  \n",
        "RNA to protein."
      ]
    },
    {
      "cell_type": "code",
      "metadata": {
        "colab": {
          "base_uri": "https://localhost:8080/"
        },
        "id": "XYVz16tlWdyP",
        "outputId": "bc4296cb-63f8-4eec-c7df-07829a1d459f"
      },
      "source": [
        "from Bio.Seq import Seq\n",
        "#from Bio.Alphabet import IUPAC\n",
        "\n",
        "with open('dna.txt', 'r+') as file:\n",
        "    input_str = file.read().rstrip(' \\n')\n",
        "\n",
        "print(len(input_str))\n",
        "\n",
        "#dna_seq = Seq(input_str, IUPACUnambiguousDNA())\n",
        "dna_seq = Seq(input_str)\n",
        "rna_seq = dna_seq.transcribe()\n",
        "protein = rna_seq.translate()\n",
        "\n",
        "print('DNA:', dna_seq)\n",
        "print('RNA:', rna_seq)\n",
        "print('Protein:', protein)\n"
      ],
      "execution_count": null,
      "outputs": [
        {
          "output_type": "stream",
          "text": [
            "2015\n",
            "DNA: GGGATGGCAATAACCCCCCGTTTCTACTTCTAGAGGAGAAAAGTATTGACATGAGCGCTCCCGGCACAAGGGCCAAAGAAGTCTCCAATTTCTTATTTCCGAATGACATGCGTCTCCTTGCGGGTAAATCACCGACCGCAATTCATAGAAGCCTGGGGGAACAGATAGGTCTAATTAGCTTAAGAGAGTAAATCCTGGGATCATTCAGTAGTAACCATAAACTTACGCTGGGGCTTCTTCGGCGGATTTTTACAGTTACCAACCAGGAGATTTGAAGTAAATCAGTTGAGGATTTAGCCGCGCTATCCGGTAATCTCCAAATTAAAACATACCGTTCCATGAAGGCTAGAATTACTTACCGGCCTTTTCCATGCCTGCGCTATACCCCCCCACTCTCCCGCTTATCCGTCCGAGCGGAGGCAGTGCGATCCTCCGTTAAGATATTCTTACGTGTGACGTAGCTATGTATTTTGCAGAGCTGGCGAACGCGTTGAACACTTCACAGATGGTAGGGATTCGGGTAAAGGGCGTATAATTGGGGACTAACATAGGCGTAGACTACGATGGCGCCAACTCAATCGCAGCTCGAGCGCCCTGAATAACGTACTCATCTCAACTCATTCTCGGCAATCTACCGAGCGACTCGATTATCAACGGCTGTCTAGCAGTTCTAATCTTTTGCCAGCATCGTAATAGCCTCCAAGAGATTGATGATAGCTATCGGCACAGAACTGAGACGGCGCCGATGGATAGCGGACTTTCGGTCAACCACAATTCCCCACGGGACAGGTCCTGCGGTGCGCATCACTCTGAATGTACAAGCAACCCAAGTGGGCCGAGCCTGGACTCAGCTGGTTCCTGCGTGAGCTCGAGACTCGGGATGACAGCTCTTTAAACATAGAGCGGGGGCGTCGAACGGTCGAGAAAGTCATAGTACCTCGGGTACCAACTTACTCAGGTTATTGCTTGAAGCTGTACTATTTTAGGGGGGGAGCGCTGAAGGTCTCTTCTTCTCATGACTGAACTCGCGAGGGTCGTGAAGTCGGTTCCTTCAATGGTTAAAAAACAAAGGCTTACTGTGCGCAGAGGAACGCCCATCTAGCGGCTGGCGTCTTGAATGCTCGGTCCCCTTTGTCATTCCGGATTAATCCATTTCCCTCATTCACGAGCTTGCGAAGTCTACATTGGTATATGAATGCGACCTAGAAGAGGGCGCTTAAAATTGGCAGTGGTTGATGCTCTAAACTCCATTTGGTTTACTCGTGCATCACCGCGATAGGCTGACAAAGGTTTAACATTGAATAGCAAGGCACTTCCGGTCTCAATGAACGGCCGGGAAAGGTACGCGCGCGGTATGGGAGGATCAAGGGGCCAATAGAGAGGCTCCTCTCTCACTCGCTAGGAGGCAAATGTAAAACAATGGTTACTGCATCGATACATAAAACATGTCCATCGGTTGCCCAAAGTGTTAAGTGTCTATCACCCCTAGGGCCGTTTCCCGCATATAAACGCCAGGTTGTATCCGCATTTGATGCTACCGTGGATGAGTCTGCGTCGAGCGCGCCGCACGAATGTTGCAATGTATTGCATGAGTAGGGTTGACTAAGAGCCGTTAGATGCGTCGCTGTACTAATAGTTGTCGACAGACCGTCGAGATTAGAAAATGGTACCAGCATTTTCGGAGGTTCTCTAACTAGTATGGATTGCGGTGTCTTCACTGTGCTGCGGCTACCCATCGCCTGAAATCCAGCTGGTGTCAAGCCATCCCCTCTCCGGGACGCCGCATGTAGTGAAACATATACGTTGCACGGGTTCACCGCGGTCCGTTCTGAGTCGACCAAGGACACAATCGAGCTCCGATCCGTACCCTCGACAAACTTGTACCCGACCCCCGGAGCTTGCCAGCTCCTCGGGTATCATGGAGCCTGTGGTTCATCGCGTCCGATATCAAACTTCGTCATGATAAAGTCCCCCCCTCGGGAGTACCAGAGAAGATGACTACTGAGTTGTGCGAT\n",
            "RNA: GGGAUGGCAAUAACCCCCCGUUUCUACUUCUAGAGGAGAAAAGUAUUGACAUGAGCGCUCCCGGCACAAGGGCCAAAGAAGUCUCCAAUUUCUUAUUUCCGAAUGACAUGCGUCUCCUUGCGGGUAAAUCACCGACCGCAAUUCAUAGAAGCCUGGGGGAACAGAUAGGUCUAAUUAGCUUAAGAGAGUAAAUCCUGGGAUCAUUCAGUAGUAACCAUAAACUUACGCUGGGGCUUCUUCGGCGGAUUUUUACAGUUACCAACCAGGAGAUUUGAAGUAAAUCAGUUGAGGAUUUAGCCGCGCUAUCCGGUAAUCUCCAAAUUAAAACAUACCGUUCCAUGAAGGCUAGAAUUACUUACCGGCCUUUUCCAUGCCUGCGCUAUACCCCCCCACUCUCCCGCUUAUCCGUCCGAGCGGAGGCAGUGCGAUCCUCCGUUAAGAUAUUCUUACGUGUGACGUAGCUAUGUAUUUUGCAGAGCUGGCGAACGCGUUGAACACUUCACAGAUGGUAGGGAUUCGGGUAAAGGGCGUAUAAUUGGGGACUAACAUAGGCGUAGACUACGAUGGCGCCAACUCAAUCGCAGCUCGAGCGCCCUGAAUAACGUACUCAUCUCAACUCAUUCUCGGCAAUCUACCGAGCGACUCGAUUAUCAACGGCUGUCUAGCAGUUCUAAUCUUUUGCCAGCAUCGUAAUAGCCUCCAAGAGAUUGAUGAUAGCUAUCGGCACAGAACUGAGACGGCGCCGAUGGAUAGCGGACUUUCGGUCAACCACAAUUCCCCACGGGACAGGUCCUGCGGUGCGCAUCACUCUGAAUGUACAAGCAACCCAAGUGGGCCGAGCCUGGACUCAGCUGGUUCCUGCGUGAGCUCGAGACUCGGGAUGACAGCUCUUUAAACAUAGAGCGGGGGCGUCGAACGGUCGAGAAAGUCAUAGUACCUCGGGUACCAACUUACUCAGGUUAUUGCUUGAAGCUGUACUAUUUUAGGGGGGGAGCGCUGAAGGUCUCUUCUUCUCAUGACUGAACUCGCGAGGGUCGUGAAGUCGGUUCCUUCAAUGGUUAAAAAACAAAGGCUUACUGUGCGCAGAGGAACGCCCAUCUAGCGGCUGGCGUCUUGAAUGCUCGGUCCCCUUUGUCAUUCCGGAUUAAUCCAUUUCCCUCAUUCACGAGCUUGCGAAGUCUACAUUGGUAUAUGAAUGCGACCUAGAAGAGGGCGCUUAAAAUUGGCAGUGGUUGAUGCUCUAAACUCCAUUUGGUUUACUCGUGCAUCACCGCGAUAGGCUGACAAAGGUUUAACAUUGAAUAGCAAGGCACUUCCGGUCUCAAUGAACGGCCGGGAAAGGUACGCGCGCGGUAUGGGAGGAUCAAGGGGCCAAUAGAGAGGCUCCUCUCUCACUCGCUAGGAGGCAAAUGUAAAACAAUGGUUACUGCAUCGAUACAUAAAACAUGUCCAUCGGUUGCCCAAAGUGUUAAGUGUCUAUCACCCCUAGGGCCGUUUCCCGCAUAUAAACGCCAGGUUGUAUCCGCAUUUGAUGCUACCGUGGAUGAGUCUGCGUCGAGCGCGCCGCACGAAUGUUGCAAUGUAUUGCAUGAGUAGGGUUGACUAAGAGCCGUUAGAUGCGUCGCUGUACUAAUAGUUGUCGACAGACCGUCGAGAUUAGAAAAUGGUACCAGCAUUUUCGGAGGUUCUCUAACUAGUAUGGAUUGCGGUGUCUUCACUGUGCUGCGGCUACCCAUCGCCUGAAAUCCAGCUGGUGUCAAGCCAUCCCCUCUCCGGGACGCCGCAUGUAGUGAAACAUAUACGUUGCACGGGUUCACCGCGGUCCGUUCUGAGUCGACCAAGGACACAAUCGAGCUCCGAUCCGUACCCUCGACAAACUUGUACCCGACCCCCGGAGCUUGCCAGCUCCUCGGGUAUCAUGGAGCCUGUGGUUCAUCGCGUCCGAUAUCAAACUUCGUCAUGAUAAAGUCCCCCCCUCGGGAGUACCAGAGAAGAUGACUACUGAGUUGUGCGAU\n",
            "Protein: GMAITPRFYF*RRKVLT*ALPAQGPKKSPISYFRMTCVSLRVNHRPQFIEAWGNR*V*LA*ESKSWDHSVVTINLRWGFFGGFLQLPTRRFEVNQLRI*PRYPVISKLKHTVP*RLELLTGLFHACAIPPHSPAYPSERRQCDPPLRYSYV*RSYVFCRAGERVEHFTDGRDSGKGRIIGD*HRRRLRWRQLNRSSSALNNVLISTHSRQSTERLDYQRLSSSSNLLPAS**PPRD***LSAQN*DGADG*RTFGQPQFPTGQVLRCASL*MYKQPKWAEPGLSWFLRELETRDDSSLNIERGRRTVEKVIVPRVPTYSGYCLKLYYFRGGALKVSSSHD*TREGREVGSFNG*KTKAYCAQRNAHLAAGVLNARSPLSFRINPFPSFTSLRSLHWYMNAT*KRALKIGSG*CSKLHLVYSCITAIG*QRFNIE*QGTSGLNERPGKVRARYGRIKGPIERLLSHSLGGKCKTMVTASIHKTCPSVAQSVKCLSPLGPFPAYKRQVVSAFDATVDESASSAPHECCNVLHE*G*LRAVRCVAVLIVVDRPSRLENGTSIFGGSLTSMDCGVFTVLRLPIA*NPAGVKPSPLRDAACSETYTLHGFTAVRSESTKDTIELRSVPSTNLYPTPGACQLLGYHGACGSSRPISNFVMIKSPPREYQRR*LLSCA\n"
          ],
          "name": "stdout"
        },
        {
          "output_type": "stream",
          "text": [
            "/usr/local/lib/python3.6/dist-packages/Bio/Seq.py:2338: BiopythonWarning: Partial codon, len(sequence) not a multiple of three. Explicitly trim the sequence or add trailing N before translation. This may become an error in future.\n",
            "  BiopythonWarning,\n"
          ],
          "name": "stderr"
        }
      ]
    },
    {
      "cell_type": "markdown",
      "metadata": {
        "id": "efCM6iiPmW8o"
      },
      "source": [
        "## Task 4.\n",
        "\n",
        "Url request to GeneBank.  \n",
        "gene ID: 7157"
      ]
    },
    {
      "cell_type": "code",
      "metadata": {
        "id": "JoL5saXdf_Qr"
      },
      "source": [
        "from Bio import Entrez\n",
        "\n",
        "Entrez.email = \"blablacar@email.com\"\n",
        "handle = Entrez.efetch(db=\"gene\", id=\"7157\", rettype=\"gb\", retmode=\"xml\")\n",
        "record = handle.read()\n",
        "handle.close()\n",
        "\n",
        "with open('gene7157.xml', 'wb') as file:\n",
        "    file.write(record)"
      ],
      "execution_count": 73,
      "outputs": []
    },
    {
      "cell_type": "code",
      "metadata": {
        "id": "UAQOT7_tkmYo",
        "colab": {
          "base_uri": "https://localhost:8080/"
        },
        "outputId": "551637c1-1485-4d5b-b6c9-fdbd4cb5b79b"
      },
      "source": [
        "from lxml import etree\n",
        "\n",
        "uniprot_id = {}\n",
        "\n",
        "with open('gene7157.xml') as file:\n",
        "    for lines in file:\n",
        "         if (re.search(\"<Dbtag_db>UniProtKB\",lines)):\n",
        "             uniProtKB_type = lines.split('/')[1].rstrip('<')\n",
        "             next(file)\n",
        "             next(file)\n",
        "             necessary_str = next(file).split('<Object-id_str>')[1].split('</Object-id_str>')[0]\n",
        "             uniprot_id[necessary_str] = uniProtKB_type\n",
        "\n",
        "for keys in uniprot_id.keys():\n",
        "    print (uniprot_id[keys], ': ', keys, sep='')"
      ],
      "execution_count": 243,
      "outputs": [
        {
          "output_type": "stream",
          "text": [
            "TrEMBL: K7PPA8\n",
            "Swiss-Prot: P04637\n",
            "TrEMBL: Q53GA5\n",
            "TrEMBL: H2EHT1\n",
            "TrEMBL: A0A087X1Q1\n",
            "TrEMBL: A0A087WXZ1\n",
            "TrEMBL: A0A087WT22\n",
            "Swiss-Prot: P04637.4\n"
          ],
          "name": "stdout"
        }
      ]
    },
    {
      "cell_type": "markdown",
      "metadata": {
        "id": "j5F3R_il_56Q"
      },
      "source": [
        "## Task 5.\n",
        "Motifs finding.   \n",
        "File: dna.txt (was opened earlier)\n",
        "        \n",
        "a.   $GC[ATGC]GC$   \n",
        "b.   $ATG[ATGC]\\{30,1000\\}A\\{5,10\\}$\n",
        "\n"
      ]
    },
    {
      "cell_type": "code",
      "metadata": {
        "id": "woo7L9un48_2",
        "colab": {
          "base_uri": "https://localhost:8080/"
        },
        "outputId": "92d7a093-7c5c-4745-bb0c-2a6ba0d46ee9"
      },
      "source": [
        "import re\n",
        "    \n",
        "for motive in re.finditer(\"GC[ATGC]GC\", input_str):\n",
        "    print('motive: ', motive.group(0),', start index ', motive.start(), sep='')\n",
        "        \n",
        "for motive in re.finditer(\"ATG[ATGC]{30,1000}A{5,10}\", input_str):\n",
        "    print('mRNA motive: ', motive.group(0),'start index ', motive.start(), sep='\\n')"
      ],
      "execution_count": 69,
      "outputs": [
        {
          "output_type": "stream",
          "text": [
            "motive: GCCGC, start index 296\n",
            "motive: GCAGC, start index 580\n",
            "motive: GCGGC, start index 1101\n",
            "motive: GCCGC, start index 1562\n",
            "motive: GCTGC, start index 1721\n",
            "motive: GCCGC, start index 1779\n",
            "mRNA motive: \n",
            "ATGACATGCGTCTCCTTGCGGGTAAATCACCGACCGCAATTCATAGAAGCCTGGGGGAACAGATAGGTCTAATTAGCTTAAGAGAGTAAATCCTGGGATCATTCAGTAGTAACCATAAACTTACGCTGGGGCTTCTTCGGCGGATTTTTACAGTTACCAACCAGGAGATTTGAAGTAAATCAGTTGAGGATTTAGCCGCGCTATCCGGTAATCTCCAAATTAAAACATACCGTTCCATGAAGGCTAGAATTACTTACCGGCCTTTTCCATGCCTGCGCTATACCCCCCCACTCTCCCGCTTATCCGTCCGAGCGGAGGCAGTGCGATCCTCCGTTAAGATATTCTTACGTGTGACGTAGCTATGTATTTTGCAGAGCTGGCGAACGCGTTGAACACTTCACAGATGGTAGGGATTCGGGTAAAGGGCGTATAATTGGGGACTAACATAGGCGTAGACTACGATGGCGCCAACTCAATCGCAGCTCGAGCGCCCTGAATAACGTACTCATCTCAACTCATTCTCGGCAATCTACCGAGCGACTCGATTATCAACGGCTGTCTAGCAGTTCTAATCTTTTGCCAGCATCGTAATAGCCTCCAAGAGATTGATGATAGCTATCGGCACAGAACTGAGACGGCGCCGATGGATAGCGGACTTTCGGTCAACCACAATTCCCCACGGGACAGGTCCTGCGGTGCGCATCACTCTGAATGTACAAGCAACCCAAGTGGGCCGAGCCTGGACTCAGCTGGTTCCTGCGTGAGCTCGAGACTCGGGATGACAGCTCTTTAAACATAGAGCGGGGGCGTCGAACGGTCGAGAAAGTCATAGTACCTCGGGTACCAACTTACTCAGGTTATTGCTTGAAGCTGTACTATTTTAGGGGGGGAGCGCTGAAGGTCTCTTCTTCTCATGACTGAACTCGCGAGGGTCGTGAAGTCGGTTCCTTCAATGGTTAAAAAA\n",
            "start index \n",
            "102\n"
          ],
          "name": "stdout"
        }
      ]
    },
    {
      "cell_type": "code",
      "metadata": {
        "id": "5X-9AbQtLhHX"
      },
      "source": [
        ""
      ],
      "execution_count": null,
      "outputs": []
    }
  ]
}