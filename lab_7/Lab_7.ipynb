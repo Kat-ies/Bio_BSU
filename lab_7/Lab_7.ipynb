{
  "nbformat": 4,
  "nbformat_minor": 0,
  "metadata": {
    "colab": {
      "name": "Lab_7.ipynb",
      "provenance": [],
      "collapsed_sections": [],
      "authorship_tag": "ABX9TyNOFIdCwnbM9HVrCVHEpJpK",
      "include_colab_link": true
    },
    "kernelspec": {
      "name": "python3",
      "display_name": "Python 3"
    },
    "language_info": {
      "name": "python"
    }
  },
  "cells": [
    {
      "cell_type": "markdown",
      "metadata": {
        "id": "view-in-github",
        "colab_type": "text"
      },
      "source": [
        "<a href=\"https://colab.research.google.com/github/Kat-ies/Bio_BSU/blob/main/lab_7/Lab_7.ipynb\" target=\"_parent\"><img src=\"https://colab.research.google.com/assets/colab-badge.svg\" alt=\"Open In Colab\"/></a>"
      ]
    },
    {
      "cell_type": "markdown",
      "metadata": {
        "id": "DLgoLjvK-R8p"
      },
      "source": [
        "# **Lab_7 : unpermute + exactmatch**\n",
        "*Ekaterina Yurkovskaya, 3rd group*"
      ]
    },
    {
      "cell_type": "markdown",
      "metadata": {
        "id": "OzkUHldP_UJD"
      },
      "source": [
        "# **BWT & IBWT**"
      ]
    },
    {
      "cell_type": "code",
      "metadata": {
        "id": "6Jdd876dAEjX"
      },
      "source": [
        "def bwt(input_str):\n",
        "    input_str += '@'\n",
        "    return \"\".join(s[-1] for s in sorted([input_str[i:] + input_str[:i] for i in range(len(input_str))])) "
      ],
      "execution_count": 7,
      "outputs": []
    },
    {
      "cell_type": "code",
      "metadata": {
        "id": "9NbnA0YD-iM_"
      },
      "source": [
        " def ibwt(input_str):\n",
        "    table = ['' for _ in range(len(input_str))]\n",
        "    for _ in range(len(input_str)):\n",
        "        table = sorted([input_str[i] + table[i] for i in range(len(input_str))])\n",
        "    for elem in table:\n",
        "        if elem.endswith('@'):\n",
        "            return elem[:-1]"
      ],
      "execution_count": 8,
      "outputs": []
    },
    {
      "cell_type": "code",
      "metadata": {
        "colab": {
          "base_uri": "https://localhost:8080/"
        },
        "id": "pnujThBzh1i9",
        "outputId": "15be93aa-8a4a-4136-8069-3ab8db327b14"
      },
      "source": [
        "print('BWT: ', bwt('acacgaaa'))\n",
        "print('IBWT: ', ibwt(bwt('acacgaaa')))"
      ],
      "execution_count": 10,
      "outputs": [
        {
          "output_type": "stream",
          "text": [
            "BWT:  aaag@caac\n",
            "IBWT:  acacgaaa\n"
          ],
          "name": "stdout"
        }
      ]
    },
    {
      "cell_type": "markdown",
      "metadata": {
        "id": "uz13-zxkgmly"
      },
      "source": [
        "# **Unpermute**"
      ]
    },
    {
      "cell_type": "code",
      "metadata": {
        "id": "qx3vuscZb3XI"
      },
      "source": [
        "def unpermute(input_bwt_str):\n",
        "\n",
        "    def n_occurence_index(string, char, n):\n",
        "        vector = [string[:index+1].count(char) for index in range(0, len(string))]\n",
        "        return vector.index(n)\n",
        "\n",
        "    def occurences(string, index):\n",
        "        return string[:index+1].count(string[index])\n",
        "    \n",
        "    original_str = ''\n",
        "    index = 0\n",
        "    first_column = sorted(input_bwt_str)\n",
        "\n",
        "    for i in range(len(input_bwt_str)-1):\n",
        "        char = input_bwt_str[index]\n",
        "        original_str = char + original_str\n",
        "        occurence_count = occurences(input_bwt_str, index)\n",
        "        index = n_occurence_index(first_column, char, occurence_count)\n",
        "\n",
        "    return original_str"
      ],
      "execution_count": 5,
      "outputs": []
    },
    {
      "cell_type": "code",
      "metadata": {
        "id": "C3KfiKG9gOJ7",
        "colab": {
          "base_uri": "https://localhost:8080/"
        },
        "outputId": "cf54c9f0-3b3b-463c-9689-dfe3adfd4c33"
      },
      "source": [
        "print('Unpermute:', unpermute(bwt('acacgaaa')))"
      ],
      "execution_count": 13,
      "outputs": [
        {
          "output_type": "stream",
          "text": [
            "Unpermute: acacgaaa\n"
          ],
          "name": "stdout"
        }
      ]
    },
    {
      "cell_type": "markdown",
      "metadata": {
        "id": "6vIw2ODKiUp3"
      },
      "source": [
        "# **Exactmatch**"
      ]
    },
    {
      "cell_type": "code",
      "metadata": {
        "id": "kweIwxUbjzTq"
      },
      "source": [
        "def FM_index(s):\n",
        "    fm_index=[]\n",
        "    \n",
        "    alp=list(set(s))\n",
        "    alp.sort()\n",
        "    \n",
        "    fm_index.append([0]*len(alp))\n",
        "\n",
        "    for i in range(1,len(s)+1):\n",
        "        curr_row=fm_index[i-1].copy()\n",
        "        l_index=alp.index(s[i-1])\n",
        "        curr_row[l_index]+=1\n",
        "        fm_index.append(curr_row)\n",
        "        \n",
        "    ofst=[0]*len(alp)\n",
        "    for i in range(1,len(alp)):\n",
        "        ofst[i]=ofst[i-1]+fm_index[-1][i-1]\n",
        "    \n",
        "    pd_fm_index=pd.DataFrame(fm_index,columns=alp)\n",
        "    pd_ofst=pd.DataFrame([ofst],columns=alp)\n",
        "\n",
        "    return pd_fm_index, pd_ofst"
      ],
      "execution_count": 25,
      "outputs": []
    },
    {
      "cell_type": "code",
      "metadata": {
        "colab": {
          "base_uri": "https://localhost:8080/",
          "height": 363
        },
        "id": "oOlQ2qGTlq5o",
        "outputId": "e6f10623-e0ac-408e-c034-39192d5eb081"
      },
      "source": [
        "fm_table, ofst = FM_index(bwt('acacgaaa'))\n",
        "fm_table"
      ],
      "execution_count": 26,
      "outputs": [
        {
          "output_type": "execute_result",
          "data": {
            "text/html": [
              "<div>\n",
              "<style scoped>\n",
              "    .dataframe tbody tr th:only-of-type {\n",
              "        vertical-align: middle;\n",
              "    }\n",
              "\n",
              "    .dataframe tbody tr th {\n",
              "        vertical-align: top;\n",
              "    }\n",
              "\n",
              "    .dataframe thead th {\n",
              "        text-align: right;\n",
              "    }\n",
              "</style>\n",
              "<table border=\"1\" class=\"dataframe\">\n",
              "  <thead>\n",
              "    <tr style=\"text-align: right;\">\n",
              "      <th></th>\n",
              "      <th>@</th>\n",
              "      <th>a</th>\n",
              "      <th>c</th>\n",
              "      <th>g</th>\n",
              "    </tr>\n",
              "  </thead>\n",
              "  <tbody>\n",
              "    <tr>\n",
              "      <th>0</th>\n",
              "      <td>0</td>\n",
              "      <td>0</td>\n",
              "      <td>0</td>\n",
              "      <td>0</td>\n",
              "    </tr>\n",
              "    <tr>\n",
              "      <th>1</th>\n",
              "      <td>0</td>\n",
              "      <td>1</td>\n",
              "      <td>0</td>\n",
              "      <td>0</td>\n",
              "    </tr>\n",
              "    <tr>\n",
              "      <th>2</th>\n",
              "      <td>0</td>\n",
              "      <td>2</td>\n",
              "      <td>0</td>\n",
              "      <td>0</td>\n",
              "    </tr>\n",
              "    <tr>\n",
              "      <th>3</th>\n",
              "      <td>0</td>\n",
              "      <td>3</td>\n",
              "      <td>0</td>\n",
              "      <td>0</td>\n",
              "    </tr>\n",
              "    <tr>\n",
              "      <th>4</th>\n",
              "      <td>0</td>\n",
              "      <td>3</td>\n",
              "      <td>0</td>\n",
              "      <td>1</td>\n",
              "    </tr>\n",
              "    <tr>\n",
              "      <th>5</th>\n",
              "      <td>1</td>\n",
              "      <td>3</td>\n",
              "      <td>0</td>\n",
              "      <td>1</td>\n",
              "    </tr>\n",
              "    <tr>\n",
              "      <th>6</th>\n",
              "      <td>1</td>\n",
              "      <td>3</td>\n",
              "      <td>1</td>\n",
              "      <td>1</td>\n",
              "    </tr>\n",
              "    <tr>\n",
              "      <th>7</th>\n",
              "      <td>1</td>\n",
              "      <td>4</td>\n",
              "      <td>1</td>\n",
              "      <td>1</td>\n",
              "    </tr>\n",
              "    <tr>\n",
              "      <th>8</th>\n",
              "      <td>1</td>\n",
              "      <td>5</td>\n",
              "      <td>1</td>\n",
              "      <td>1</td>\n",
              "    </tr>\n",
              "    <tr>\n",
              "      <th>9</th>\n",
              "      <td>1</td>\n",
              "      <td>5</td>\n",
              "      <td>2</td>\n",
              "      <td>1</td>\n",
              "    </tr>\n",
              "  </tbody>\n",
              "</table>\n",
              "</div>"
            ],
            "text/plain": [
              "   @  a  c  g\n",
              "0  0  0  0  0\n",
              "1  0  1  0  0\n",
              "2  0  2  0  0\n",
              "3  0  3  0  0\n",
              "4  0  3  0  1\n",
              "5  1  3  0  1\n",
              "6  1  3  1  1\n",
              "7  1  4  1  1\n",
              "8  1  5  1  1\n",
              "9  1  5  2  1"
            ]
          },
          "metadata": {
            "tags": []
          },
          "execution_count": 26
        }
      ]
    },
    {
      "cell_type": "code",
      "metadata": {
        "id": "VOQAMXtYiKdC"
      },
      "source": [
        "def exactmatch(suffix, input_str):\n",
        "\n",
        "    fm_index, ofst = FM_index(input_str)\n",
        "\n",
        "    h=len(fm_index)-1 \n",
        "    l=0   \n",
        "    \n",
        "    for i in range(len(suffix)):\n",
        "        char=suffix[-1-i]\n",
        "        h=ofst[char][0] + fm_index[char][h]   \n",
        "        l=ofst[char][0] + fm_index[char][l]    \n",
        "\n",
        "    return l, h"
      ],
      "execution_count": 29,
      "outputs": []
    },
    {
      "cell_type": "code",
      "metadata": {
        "colab": {
          "base_uri": "https://localhost:8080/"
        },
        "id": "zsZls6_ykqU0",
        "outputId": "7aa6b462-3fc9-4afb-c94e-9abeead26479"
      },
      "source": [
        "print('Exactmatch: ', exactmatch('nana', bwt('banana')))"
      ],
      "execution_count": 34,
      "outputs": [
        {
          "output_type": "stream",
          "text": [
            "Exactmatch:  (6, 7)\n"
          ],
          "name": "stdout"
        }
      ]
    },
    {
      "cell_type": "code",
      "metadata": {
        "id": "OlYEzaGGk0sy"
      },
      "source": [
        ""
      ],
      "execution_count": null,
      "outputs": []
    }
  ]
}