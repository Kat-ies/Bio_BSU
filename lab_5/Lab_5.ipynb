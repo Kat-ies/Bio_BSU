{
  "nbformat": 4,
  "nbformat_minor": 0,
  "metadata": {
    "colab": {
      "name": "Lab_5",
      "provenance": [],
      "collapsed_sections": [],
      "authorship_tag": "ABX9TyPRIIZJe9G5xn2ZN7U7xTCA",
      "include_colab_link": true
    },
    "kernelspec": {
      "name": "python3",
      "display_name": "Python 3"
    },
    "language_info": {
      "name": "python"
    }
  },
  "cells": [
    {
      "cell_type": "markdown",
      "metadata": {
        "id": "view-in-github",
        "colab_type": "text"
      },
      "source": [
        "<a href=\"https://colab.research.google.com/github/Kat-ies/Bio_BSU/blob/main/lab_5/Lab_5.ipynb\" target=\"_parent\"><img src=\"https://colab.research.google.com/assets/colab-badge.svg\" alt=\"Open In Colab\"/></a>"
      ]
    },
    {
      "cell_type": "markdown",
      "metadata": {
        "id": "DLgoLjvK-R8p"
      },
      "source": [
        "# **Lab_5 :  String Matching Algorithms**\n",
        "*Ekaterina Yurkovskaya, 3rd group*"
      ]
    },
    {
      "cell_type": "markdown",
      "metadata": {
        "id": "OzkUHldP_UJD"
      },
      "source": [
        "# **The Knuth-Morris-Pratt (KMP) algorithm**"
      ]
    },
    {
      "cell_type": "code",
      "metadata": {
        "id": "6Jdd876dAEjX"
      },
      "source": [
        "def kmp(substring, string):\n",
        "\n",
        "    def prefix_function(string):\n",
        "        pref = [0] * len(string)\n",
        "\n",
        "        for i in range(1, len(string)):\n",
        "\n",
        "            prev_pref_val = pref[i - 1]\n",
        "\n",
        "            while prev_pref_val > 0 and string[i] != string[prev_pref_val]:\n",
        "                prev_pref_val = pref[prev_pref_val - 1]\n",
        "\n",
        "            if string[i] == string[prev_pref_val]:\n",
        "                pref[i] = prev_pref_val + 1\n",
        "            else:\n",
        "                pref[i] = prev_pref_val\n",
        "        return pref\n",
        "\n",
        "    pref_mas = prefix_function(substring + '#' + string)\n",
        "\n",
        "    for i in range(len(string)):\n",
        "        if pref_mas [len(substring) + 1 + i] == len(substring):\n",
        "            print(string)\n",
        "            print(' ' * (i - len(substring) + 1) + substring)\n",
        "            print('--------------------------')"
      ],
      "execution_count": 23,
      "outputs": []
    },
    {
      "cell_type": "code",
      "metadata": {
        "colab": {
          "base_uri": "https://localhost:8080/"
        },
        "id": "JzEwRQUZBWWp",
        "outputId": "4fb7d95c-5ffb-42bd-cbb8-614fd2bf2567"
      },
      "source": [
        "kmp('GTA', 'ACGTAAACGTAGTA')"
      ],
      "execution_count": 24,
      "outputs": [
        {
          "output_type": "stream",
          "text": [
            "ACGTAAACGTAGTA\n",
            "  GTA\n",
            "--------------------------\n",
            "ACGTAAACGTAGTA\n",
            "        GTA\n",
            "--------------------------\n",
            "ACGTAAACGTAGTA\n",
            "           GTA\n",
            "--------------------------\n"
          ],
          "name": "stdout"
        }
      ]
    }
  ]
}