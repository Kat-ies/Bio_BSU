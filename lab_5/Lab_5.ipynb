{
  "nbformat": 4,
  "nbformat_minor": 0,
  "metadata": {
    "colab": {
      "name": "Lab_5",
      "provenance": [],
      "collapsed_sections": [],
      "authorship_tag": "ABX9TyNlnOi6+ymszGPNgvvn6LuI",
      "include_colab_link": true
    },
    "kernelspec": {
      "name": "python3",
      "display_name": "Python 3"
    },
    "language_info": {
      "name": "python"
    }
  },
  "cells": [
    {
      "cell_type": "markdown",
      "metadata": {
        "id": "view-in-github",
        "colab_type": "text"
      },
      "source": [
        "<a href=\"https://colab.research.google.com/github/Kat-ies/Bio_BSU/blob/main/lab_5/Lab_5.ipynb\" target=\"_parent\"><img src=\"https://colab.research.google.com/assets/colab-badge.svg\" alt=\"Open In Colab\"/></a>"
      ]
    },
    {
      "cell_type": "markdown",
      "metadata": {
        "id": "DLgoLjvK-R8p"
      },
      "source": [
        "# **Lab_5 :  String Matching Algorithms**\n",
        "*Ekaterina Yurkovskaya, 3rd group*"
      ]
    },
    {
      "cell_type": "markdown",
      "metadata": {
        "id": "OzkUHldP_UJD"
      },
      "source": [
        "# **The Knuth-Morris-Pratt (KMP) algorithm**"
      ]
    },
    {
      "cell_type": "code",
      "metadata": {
        "id": "6Jdd876dAEjX"
      },
      "source": [
        "def kmp(substring, string):\n",
        "    def prefix_function(string):\n",
        "        pref = [0] * len(string)\n",
        "\n",
        "        for i in range(1, len(string)):\n",
        "\n",
        "            prev_pref_val = pref[i - 1]\n",
        "\n",
        "            while prev_pref_val > 0 and string[i] != string[prev_pref_val]:\n",
        "                prev_pref_val = pref[prev_pref_val - 1]\n",
        "\n",
        "            if string[i] == string[prev_pref_val]:\n",
        "                pref[i] = prev_pref_val + 1\n",
        "            else:\n",
        "                pref[i] = prev_pref_val\n",
        "        return pref\n",
        "\n",
        "    pref_mas = prefix_function(substring + '#' + string)\n",
        "\n",
        "    for i in range(len(string)):\n",
        "        if pref_mas[len(substring) + 1 + i] == len(substring):\n",
        "            print(string)\n",
        "            print(' ' * (i - len(substring) + 1) + substring)\n",
        "            print('--------------------------')\n"
      ],
      "execution_count": 5,
      "outputs": []
    },
    {
      "cell_type": "code",
      "metadata": {
        "colab": {
          "base_uri": "https://localhost:8080/"
        },
        "id": "JzEwRQUZBWWp",
        "outputId": "5ffe1cd9-394a-4ec3-bb04-94fa504831ec"
      },
      "source": [
        "kmp('GTA', 'ACGTAAACGTAGTA')"
      ],
      "execution_count": 6,
      "outputs": [
        {
          "output_type": "stream",
          "text": [
            "ACGTAAACGTAGTA\n",
            "  GTA\n",
            "--------------------------\n",
            "ACGTAAACGTAGTA\n",
            "        GTA\n",
            "--------------------------\n",
            "ACGTAAACGTAGTA\n",
            "           GTA\n",
            "--------------------------\n"
          ],
          "name": "stdout"
        }
      ]
    },
    {
      "cell_type": "markdown",
      "metadata": {
        "id": "RpSsB3BS885S"
      },
      "source": [
        "# **Rabin-Karp algorithm**"
      ]
    },
    {
      "cell_type": "code",
      "metadata": {
        "id": "9NbnA0YD-iM_"
      },
      "source": [
        "def rabin_karp(substring, string):\n",
        "    alphabet_size = 256\n",
        "    modulus = 1000003\n",
        "\n",
        "    p_len = len(substring)\n",
        "    t_len = len(string)\n",
        "    if p_len > t_len:\n",
        "        return\n",
        "\n",
        "    p_hash = 0\n",
        "    text_hash = 0\n",
        "    modulus_power = 1\n",
        "\n",
        "    for i in range(p_len):\n",
        "        p_hash = (ord(substring[i]) + p_hash * alphabet_size) % modulus\n",
        "        text_hash = (ord(string[i]) + text_hash * alphabet_size) % modulus\n",
        "        if i == p_len - 1:\n",
        "            continue\n",
        "        modulus_power = (modulus_power * alphabet_size) % modulus\n",
        "\n",
        "    for i in range(0, t_len - p_len + 1):\n",
        "        if text_hash == p_hash and string[i: i + p_len] == substring:\n",
        "            print(string)\n",
        "            print(' ' * i + substring)\n",
        "            print('--------------------------')\n",
        "        if i == t_len - p_len:\n",
        "            continue\n",
        "\n",
        "        text_hash = (\n",
        "                            (text_hash - ord(string[i]) * modulus_power) * alphabet_size + ord(\n",
        "                        string[i + p_len])) % modulus\n"
      ],
      "execution_count": 7,
      "outputs": []
    },
    {
      "cell_type": "code",
      "metadata": {
        "colab": {
          "base_uri": "https://localhost:8080/"
        },
        "id": "jnHYy2pABT1U",
        "outputId": "d95690d8-b4a6-4220-ea17-f7afb65348f5"
      },
      "source": [
        "rabin_karp('GTA', 'ACGTAAACGTAGTA')"
      ],
      "execution_count": 8,
      "outputs": [
        {
          "output_type": "stream",
          "text": [
            "ACGTAAACGTAGTA\n",
            "  GTA\n",
            "--------------------------\n",
            "ACGTAAACGTAGTA\n",
            "        GTA\n",
            "--------------------------\n",
            "ACGTAAACGTAGTA\n",
            "           GTA\n",
            "--------------------------\n"
          ],
          "name": "stdout"
        }
      ]
    },
    {
      "cell_type": "markdown",
      "metadata": {
        "id": "j8VFJHVoBgSL"
      },
      "source": [
        "# **Boyer–Moore algorithm**"
      ]
    },
    {
      "cell_type": "code",
      "metadata": {
        "id": "C65bFBhmBWGd"
      },
      "source": [
        "def boyer_mur(substring, string):\n",
        "    substring_dict = {}\n",
        "\n",
        "    for i in range(len(substring)):\n",
        "        substring_dict[ord(substring[i])] = len(substring) - i\n",
        "\n",
        "    # k - проход по string\n",
        "    # j - проход по substring\n",
        "    # i - место начала прохода по s\n",
        "    lenX = i = j = k = len(substring)\n",
        "    while j > 0 and i <= len(string):\n",
        "        if string[k - 1] == substring[j - 1]:\n",
        "            k -= 1\n",
        "            j -= 1\n",
        "        else:\n",
        "            i += substring_dict[ord(string[i])]\n",
        "            j = lenX\n",
        "            k = i\n",
        "    if j <= 0:\n",
        "        print(string)\n",
        "        print(' ' * k + substring)\n",
        "        print('--------------------------')\n"
      ],
      "execution_count": 9,
      "outputs": []
    },
    {
      "cell_type": "code",
      "metadata": {
        "colab": {
          "base_uri": "https://localhost:8080/"
        },
        "id": "vLLpmTkcDlyW",
        "outputId": "05e25538-4712-4f6e-8afa-f4f80960ca03"
      },
      "source": [
        "boyer_mur('GTA', 'ACGTAAACGTAGTA')"
      ],
      "execution_count": 10,
      "outputs": [
        {
          "output_type": "stream",
          "text": [
            "ACGTAAACGTAGTA\n",
            "  GTA\n",
            "--------------------------\n"
          ],
          "name": "stdout"
        }
      ]
    },
    {
      "cell_type": "code",
      "metadata": {
        "id": "1WEemRv_Do24"
      },
      "source": [
        ""
      ],
      "execution_count": null,
      "outputs": []
    }
  ]
}