{
  "nbformat": 4,
  "nbformat_minor": 0,
  "metadata": {
    "colab": {
      "name": "Lab_6.ipynb",
      "provenance": [],
      "collapsed_sections": [],
      "authorship_tag": "ABX9TyOCN9bZoxI+yY5qU1IAs8Od",
      "include_colab_link": true
    },
    "kernelspec": {
      "name": "python3",
      "display_name": "Python 3"
    },
    "language_info": {
      "name": "python"
    }
  },
  "cells": [
    {
      "cell_type": "markdown",
      "metadata": {
        "id": "view-in-github",
        "colab_type": "text"
      },
      "source": [
        "<a href=\"https://colab.research.google.com/github/Kat-ies/Bio_BSU/blob/main/lab_6/Lab_6.ipynb\" target=\"_parent\"><img src=\"https://colab.research.google.com/assets/colab-badge.svg\" alt=\"Open In Colab\"/></a>"
      ]
    },
    {
      "cell_type": "markdown",
      "metadata": {
        "id": "DLgoLjvK-R8p"
      },
      "source": [
        "# **Lab_6 :  BWT + IBWT**\n",
        "*Ekaterina Yurkovskaya, 3rd group*"
      ]
    },
    {
      "cell_type": "markdown",
      "metadata": {
        "id": "OzkUHldP_UJD"
      },
      "source": [
        "# **BWT**"
      ]
    },
    {
      "cell_type": "code",
      "metadata": {
        "id": "6Jdd876dAEjX"
      },
      "source": [
        "def bwt(input_str):\n",
        "    input_str += '@'\n",
        "    return \"\".join(s[-1] for s in sorted([input_str[i:] + input_str[:i] for i in range(len(input_str))])) "
      ],
      "execution_count": null,
      "outputs": []
    },
    {
      "cell_type": "code",
      "metadata": {
        "colab": {
          "base_uri": "https://localhost:8080/",
          "height": 35
        },
        "id": "JzEwRQUZBWWp",
        "outputId": "403b82ff-6165-458b-f8ed-72618af7b1ca"
      },
      "source": [
        "bwt('ccagaga')"
      ],
      "execution_count": null,
      "outputs": [
        {
          "output_type": "execute_result",
          "data": {
            "application/vnd.google.colaboratory.intrinsic+json": {
              "type": "string"
            },
            "text/plain": [
              "'aggcc@aa'"
            ]
          },
          "metadata": {
            "tags": []
          },
          "execution_count": 2
        }
      ]
    },
    {
      "cell_type": "markdown",
      "metadata": {
        "id": "RpSsB3BS885S"
      },
      "source": [
        "# **IBWT**"
      ]
    },
    {
      "cell_type": "code",
      "metadata": {
        "id": "9NbnA0YD-iM_"
      },
      "source": [
        " def ibwt(input_str):\n",
        "    table = ['' for _ in range(len(input_str))]\n",
        "    for _ in range(len(input_str)):\n",
        "        table = sorted([input_str[i] + table[i] for i in range(len(input_str))])\n",
        "    for elem in table:\n",
        "        if elem.endswith('@'):\n",
        "            return elem[:-1]"
      ],
      "execution_count": null,
      "outputs": []
    },
    {
      "cell_type": "code",
      "metadata": {
        "colab": {
          "base_uri": "https://localhost:8080/",
          "height": 35
        },
        "id": "jnHYy2pABT1U",
        "outputId": "f009b0aa-5cf8-46ca-f7cd-02e1e19e6ac7"
      },
      "source": [
        "ibwt(bwt('ccagaga'))"
      ],
      "execution_count": null,
      "outputs": [
        {
          "output_type": "execute_result",
          "data": {
            "application/vnd.google.colaboratory.intrinsic+json": {
              "type": "string"
            },
            "text/plain": [
              "'ccagaga'"
            ]
          },
          "metadata": {
            "tags": []
          },
          "execution_count": 7
        }
      ]
    },
    {
      "cell_type": "code",
      "metadata": {
        "id": "1WEemRv_Do24"
      },
      "source": [
        ""
      ],
      "execution_count": null,
      "outputs": []
    }
  ]
}