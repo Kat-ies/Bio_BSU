{
  "nbformat": 4,
  "nbformat_minor": 0,
  "metadata": {
    "colab": {
      "name": "Lab_8.ipynb",
      "provenance": [],
      "collapsed_sections": [],
      "authorship_tag": "ABX9TyOwmSHsSYZXe/VKpvhG/Eak",
      "include_colab_link": true
    },
    "kernelspec": {
      "name": "python3",
      "display_name": "Python 3"
    },
    "language_info": {
      "name": "python"
    }
  },
  "cells": [
    {
      "cell_type": "markdown",
      "metadata": {
        "id": "view-in-github",
        "colab_type": "text"
      },
      "source": [
        "<a href=\"https://colab.research.google.com/github/Kat-ies/Bio_BSU/blob/main/lab_8/Lab_8.ipynb\" target=\"_parent\"><img src=\"https://colab.research.google.com/assets/colab-badge.svg\" alt=\"Open In Colab\"/></a>"
      ]
    },
    {
      "cell_type": "markdown",
      "metadata": {
        "id": "DLgoLjvK-R8p"
      },
      "source": [
        "# **Lab_8 : K-means, cast**\n",
        "*Ekaterina Yurkovskaya, 3rd group*"
      ]
    },
    {
      "cell_type": "code",
      "metadata": {
        "id": "ZlJM5DrCsTR9"
      },
      "source": [
        "import numpy as np\n",
        "from sklearn.datasets import make_blobs\n",
        "import matplotlib.pyplot as plt\n",
        "import random\n",
        "\n",
        "def k_means(x_points, k=5):\n",
        "\n",
        "  centers = np.zeros((k, x_points.shape[1]))\n",
        "  new_centers = np.array(x_points[:k])\n",
        "  clusters = np.zeros(x_points.shape[0])\n",
        "\n",
        "  while np.all(centers != new_centers):\n",
        "      centers = new_centers\n",
        "      \n",
        "      dist = np.linalg.norm((centers.reshape(1, k, -1) - x_points.reshape(x_points.shape[0], 1, -1)), axis=2)\n",
        "      clusters = dist.argmin(axis=1)\n",
        "\n",
        "      for i in range(k):\n",
        "          if x_points[clusters == i].size > 0:\n",
        "              new_centres[i] = np.mean(x_points[clusters == i], axis=0)\n",
        "\n",
        "  return centers, clusters"
      ],
      "execution_count": 83,
      "outputs": []
    },
    {
      "cell_type": "code",
      "metadata": {
        "colab": {
          "base_uri": "https://localhost:8080/",
          "height": 282
        },
        "id": "75eH4eDdFFI5",
        "outputId": "3dbe83b6-4295-4bca-f4b7-c605ede46f4e"
      },
      "source": [
        "X, y = make_blobs(50, 2, centers=3)\n",
        "\n",
        "plt.scatter(X[:,0], X[:,1])"
      ],
      "execution_count": 84,
      "outputs": [
        {
          "output_type": "execute_result",
          "data": {
            "text/plain": [
              "<matplotlib.collections.PathCollection at 0x7fe705af50d0>"
            ]
          },
          "metadata": {
            "tags": []
          },
          "execution_count": 84
        },
        {
          "output_type": "display_data",
          "data": {
            "image/png": "[encoded data removed]",
            "text/plain": [
              "<Figure size 432x288 with 1 Axes>"
            ]
          },
          "metadata": {
            "tags": [],
            "needs_background": "light"
          }
        }
      ]
    },
    {
      "cell_type": "code",
      "metadata": {
        "colab": {
          "base_uri": "https://localhost:8080/",
          "height": 282
        },
        "id": "3dGVVexkFJDQ",
        "outputId": "8fc1ef00-e15d-4b7a-a050-8a6970e6157b"
      },
      "source": [
        "centers, cl = k_means(X, 3)\n",
        "plt.scatter(X[:,0], X[:,1], c=cl)"
      ],
      "execution_count": 85,
      "outputs": [
        {
          "output_type": "execute_result",
          "data": {
            "text/plain": [
              "<matplotlib.collections.PathCollection at 0x7fe705a1db50>"
            ]
          },
          "metadata": {
            "tags": []
          },
          "execution_count": 85
        },
        {
          "output_type": "display_data",
          "data": {
            "image/png": "[encoded data removed]",
            "text/plain": [
              "<Figure size 432x288 with 1 Axes>"
            ]
          },
          "metadata": {
            "tags": [],
            "needs_background": "light"
          }
        }
      ]
    },
    {
      "cell_type": "code",
      "metadata": {
        "id": "R7GOLkgpFJZE"
      },
      "source": [
        ""
      ],
      "execution_count": null,
      "outputs": []
    }
  ]
}